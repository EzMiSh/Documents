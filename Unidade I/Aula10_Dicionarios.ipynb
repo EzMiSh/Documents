{
 "cells": [
  {
   "cell_type": "markdown",
   "metadata": {},
   "source": [
    "## Dicionários\n",
    "Assim como uma lista, um dicionário é uma coleção mutável de muitos valores. \n",
    "\n",
    "Mas, diferentemente dos índices de listas, os índices de dicionários podem usar muitos tipos de dados diferentes, não apenas números inteiros. \n",
    "\n",
    "Os índices para dicionários são chamados de chaves, e uma chave com seu valor associado é chamada de par chave-valor .\n",
    "\n",
    "No código, um dicionário é digitado entre chaves, {} ."
   ]
  },
  {
   "cell_type": "code",
   "execution_count": null,
   "metadata": {},
   "outputs": [],
   "source": [
    "meuGato = {'tamanho': 'gorda', 'cor': 'cinza', 'disposição': 'alta'}"
   ]
  },
  {
   "cell_type": "code",
   "execution_count": null,
   "metadata": {},
   "outputs": [],
   "source": [
    "meuGato['tamanho']"
   ]
  },
  {
   "cell_type": "code",
   "execution_count": null,
   "metadata": {},
   "outputs": [],
   "source": [
    "'Minha gata tem pelo ' + meuGato['cor']"
   ]
  },
  {
   "cell_type": "markdown",
   "metadata": {},
   "source": [
    "# Dicionários vs. Listas\n"
   ]
  },
  {
   "cell_type": "code",
   "execution_count": null,
   "metadata": {},
   "outputs": [],
   "source": [
    "lista1 = ['gatos', 'cachorros', 'alces']\n",
    "lista2 = ['cachorros', 'alces', 'gatos']\n",
    "lista1 == lista2"
   ]
  },
  {
   "cell_type": "code",
   "execution_count": null,
   "metadata": {},
   "outputs": [],
   "source": [
    "dicionario1 = { 'nome': 'Zophie', 'espécie': 'gato', 'idade': '8'}\n",
    "dicionario2 = {'espécie': 'gato', 'idade': '8', 'nome': 'Zophie'}\n",
    "dicionario1 == dicionario2"
   ]
  },
  {
   "cell_type": "markdown",
   "metadata": {},
   "source": [
    "Ao contrário das listas, os itens nos dicionários não são ordenados. O primeiro item de uma lista chamada spam seria spam[0]. Mas não existe um “primeiro” item em um dicionário. Embora a ordem dos itens seja importante para determinar se duas listas são iguais, não importa a ordem em que os pares de valores-chave são digitados em um dicionário."
   ]
  },
  {
   "cell_type": "code",
   "execution_count": null,
   "metadata": {},
   "outputs": [],
   "source": [
    "aniversarios = {'Alice': '1 de abril', 'Bob': '12 de dezembro', 'Carol': '4 de março'}"
   ]
  },
  {
   "cell_type": "code",
   "execution_count": null,
   "metadata": {},
   "outputs": [],
   "source": [
    "while True:\n",
    "    print('Digite um nome: (em branco para sair)')\n",
    "    nome = input()\n",
    "    if nome == '':\n",
    "       break\n",
    "    if nome in aniversarios:\n",
    "        print(aniversarios[nome] + ' é o aniversário de ' + nome)\n",
    "    else:\n",
    "        print('Não tenho informações de aniversário para ' + nome)\n",
    "        print('Qual é o aniversário deles?')\n",
    "        aniversario = input()\n",
    "        aniversarios[nome] = aniversario\n",
    "        print('Banco de dados de aniversários atualizado.')"
   ]
  },
  {
   "cell_type": "code",
   "execution_count": null,
   "metadata": {},
   "outputs": [],
   "source": [
    "aniversarios"
   ]
  },
  {
   "cell_type": "markdown",
   "metadata": {},
   "source": [
    "\n",
    "https://autbor.com/bdaydb"
   ]
  },
  {
   "cell_type": "code",
   "execution_count": null,
   "metadata": {},
   "outputs": [],
   "source": [
    "spam = {}\n",
    "spam['first key'] = 'value'\n",
    "spam['second key'] = 'value'\n",
    "spam['third key'] = 'value'\n",
    "list(spam)"
   ]
  },
  {
   "cell_type": "markdown",
   "metadata": {},
   "source": [
    "# métodos keys() , valus() e items()\n",
    "\n",
    "Quando você usa os métodos keys() , valus() e items() , um loop for pode iterar sobre as chaves, valores ou pares de valores-chave em um dicionário, respectivamente. Observe que os valores no valor dict_items retornado pelo método items() são tuplas da chave e do valor."
   ]
  },
  {
   "cell_type": "code",
   "execution_count": null,
   "metadata": {},
   "outputs": [],
   "source": [
    "spam = {'color': 'red', 'age': 42}\n",
    "for names in spam.values():\n",
    "    print(names)"
   ]
  },
  {
   "cell_type": "code",
   "execution_count": null,
   "metadata": {},
   "outputs": [],
   "source": [
    "spam['age']"
   ]
  },
  {
   "cell_type": "code",
   "execution_count": null,
   "metadata": {},
   "outputs": [],
   "source": [
    "for k, v in spam.items():\n",
    " print('Key: ' + k + ' Value: ' + str(v))"
   ]
  },
  {
   "cell_type": "code",
   "execution_count": null,
   "metadata": {},
   "outputs": [],
   "source": [
    "spam = {'color': 'red', 'age': 42}\n",
    "for v in spam.values():\n",
    "  print(v)"
   ]
  },
  {
   "cell_type": "code",
   "execution_count": null,
   "metadata": {},
   "outputs": [],
   "source": [
    "for k in spam.keys():\n",
    "      print(k)"
   ]
  },
  {
   "cell_type": "code",
   "execution_count": null,
   "metadata": {},
   "outputs": [],
   "source": [
    "for i in spam.items():\n",
    "      print(i)"
   ]
  },
  {
   "cell_type": "markdown",
   "metadata": {},
   "source": [
    "Você também pode usar atribuição múltipla em um loop for para atribuir a chave e o valor a variáveis ​​separadas. \n"
   ]
  },
  {
   "cell_type": "code",
   "execution_count": null,
   "metadata": {},
   "outputs": [],
   "source": [
    "spam = {'cor': 'vermelho', 'idade': 42}\n",
    "for k, v in spam.items():\n",
    "  print('A Chave: (' + k + ') tem  Valor: (' + str(v) +')')"
   ]
  },
  {
   "cell_type": "markdown",
   "metadata": {},
   "source": [
    "# O método get()\n",
    "\n",
    "os dicionários têm um método get() que aceita dois argumentos: a chave do valor a ser recuperado e um valor substituto a ser retornado se essa chave não existir."
   ]
  },
  {
   "cell_type": "code",
   "execution_count": null,
   "metadata": {},
   "outputs": [],
   "source": [
    "picnicItems = {'maçãs': 5, 'copos': 2}\n",
    "\n",
    "'Estou trazendo ' + str(picnicItems.get('copos', 0)) + ' copos.'\n"
   ]
  },
  {
   "cell_type": "code",
   "execution_count": null,
   "metadata": {},
   "outputs": [],
   "source": [
    "'Estou trazendo ' + str(picnicItems('ovos')) + ' ovos.'"
   ]
  },
  {
   "cell_type": "code",
   "execution_count": null,
   "metadata": {},
   "outputs": [],
   "source": [
    "'Estou trazendo ' + str(picnicItems.get('ovos')) + ' ovos.'"
   ]
  },
  {
   "cell_type": "code",
   "execution_count": null,
   "metadata": {},
   "outputs": [],
   "source": [
    "'Estou trazendo ' + str(picnicItems.get('ovos',0)) + ' ovos.'"
   ]
  },
  {
   "cell_type": "markdown",
   "metadata": {},
   "source": [
    "# O método setdefault()\n"
   ]
  },
  {
   "cell_type": "code",
   "execution_count": null,
   "metadata": {},
   "outputs": [],
   "source": [
    "spam = {'nome': 'Joao', 'idade': 5}\n",
    "if 'cor' not in spam:\n",
    "    spam['cor'] = 'negro'"
   ]
  },
  {
   "cell_type": "code",
   "execution_count": null,
   "metadata": {},
   "outputs": [],
   "source": []
  },
  {
   "cell_type": "code",
   "execution_count": null,
   "metadata": {},
   "outputs": [],
   "source": [
    "spam"
   ]
  },
  {
   "cell_type": "code",
   "execution_count": null,
   "metadata": {},
   "outputs": [],
   "source": [
    "spam = {'nome': 'Joao', 'idade': 5}\n",
    "spam.setdefault('cor', 'negro')\n",
    "spam"
   ]
  },
  {
   "cell_type": "code",
   "execution_count": null,
   "metadata": {},
   "outputs": [],
   "source": [
    "spam.setdefault('altura', 'média')"
   ]
  },
  {
   "cell_type": "code",
   "execution_count": null,
   "metadata": {},
   "outputs": [],
   "source": [
    "spam"
   ]
  },
  {
   "cell_type": "code",
   "execution_count": null,
   "metadata": {},
   "outputs": [],
   "source": [
    "mensagem = 'Era um dia claro e frio de abril e os relógios marcavam treze horas.'\n",
    "count = {}\n",
    "\n",
    "for caractere in mensagem:\n",
    "    count.setdefault(caractere, 0)\n",
    "    count[caractere] = count[caractere] + 1\n",
    "\n",
    "print(count)    "
   ]
  },
  {
   "cell_type": "code",
   "execution_count": null,
   "metadata": {},
   "outputs": [],
   "source": [
    "import pprint\n",
    "mensagem = 'Era um dia claro e frio de abril e os relógios marcavam treze horas.'\n",
    "count = {}\n",
    "\n",
    "for caractere in mensagem:\n",
    "    count.setdefault(caractere, 0)\n",
    "    count[caractere] = count[caractere] + 1\n",
    "\n",
    "pprint.pprint(count)    "
   ]
  },
  {
   "cell_type": "code",
   "execution_count": null,
   "metadata": {},
   "outputs": [],
   "source": [
    "import pprint\n",
    "mensagem = 'Era um dia claro e frio de abril e os relógios marcavam treze horas.'\n",
    "count = {}\n",
    "\n",
    "for caractere in mensagem:\n",
    "    count.setdefault(caractere, 0)\n",
    "    count[caractere] = count[caractere] + 1\n",
    "\n",
    "print(pprint.pformat(count))    "
   ]
  },
  {
   "cell_type": "markdown",
   "metadata": {},
   "source": [
    "![Alt text](..\\Figuras\\image-15.png)"
   ]
  },
  {
   "cell_type": "code",
   "execution_count": null,
   "metadata": {},
   "outputs": [],
   "source": [
    "theBoard = {'top-L': ' ', 'top-M': ' ', 'top-R': ' ',\n",
    "            'mid-L': ' ', 'mid-M': ' ', 'mid-R': ' ',\n",
    "            'low-L': ' ', 'low-M': ' ', 'low-R': ' '}\n",
    "def printBoard(board):\n",
    "    print(board['top-L'] + '|' + board['top-M'] + '|' + board['top-R'])\n",
    "    print('-+-+-')\n",
    "    print(board['mid-L'] + '|' + board['mid-M'] + '|' + board['mid-R'])\n",
    "    print('-+-+-')\n",
    "    print(board['low-L'] + '|' + board['low-M'] + '|' + board['low-R'])\n",
    "printBoard(theBoard)"
   ]
  },
  {
   "cell_type": "code",
   "execution_count": 1,
   "metadata": {},
   "outputs": [
    {
     "name": "stdout",
     "output_type": "stream",
     "text": [
      "O|O|O\n",
      "-+-+-\n",
      "X|X| \n",
      "-+-+-\n",
      " | |X\n"
     ]
    }
   ],
   "source": [
    "theBoard = {'top-L': 'O', 'top-M': 'O', 'top-R': 'O', 'mid-L': 'X', 'mid-M':\n",
    "'X', 'mid-R': ' ', 'low-L': ' ', 'low-M': ' ', 'low-R': 'X'}\n",
    "\n",
    "def printBoard(board):\n",
    "    print(board['top-L'] + '|' + board['top-M'] + '|' + board['top-R'])\n",
    "    print('-+-+-')\n",
    "    print(board['mid-L'] + '|' + board['mid-M'] + '|' + board['mid-R'])\n",
    "    print('-+-+-')\n",
    "    print(board['low-L'] + '|' + board['low-M'] + '|' + board['low-R'])\n",
    "printBoard(theBoard)"
   ]
  },
  {
   "cell_type": "code",
   "execution_count": 2,
   "metadata": {},
   "outputs": [
    {
     "name": "stdout",
     "output_type": "stream",
     "text": [
      " | | \n",
      "-+-+-\n",
      " | | \n",
      "-+-+-\n",
      " | | \n",
      "Turn for X. Move on which space?\n",
      "X| | \n",
      "-+-+-\n",
      " | | \n",
      "-+-+-\n",
      " | | \n",
      "Turn for O. Move on which space?\n",
      "X| | \n",
      "-+-+-\n",
      " | | \n",
      "-+-+-\n",
      " | | \n",
      "Turn for X. Move on which space?\n",
      "X| | \n",
      "-+-+-\n",
      " |X| \n",
      "-+-+-\n",
      " | | \n",
      "Turn for O. Move on which space?\n",
      "X| | \n",
      "-+-+-\n",
      " |X| \n",
      "-+-+-\n",
      " | |O\n",
      "Turn for X. Move on which space?\n"
     ]
    }
   ],
   "source": [
    "theBoard = {'top-L': ' ', 'top-M': ' ', 'top-R': ' ', 'mid-L': ' ', 'mid-M':\n",
    "' ', 'mid-R': ' ', 'low-L': ' ', 'low-M': ' ', 'low-R': ' '}\n",
    "\n",
    "def printBoard(board):\n",
    "    print(board['top-L'] + '|' + board['top-M'] + '|' + board['top-R'])\n",
    "    print('-+-+-')\n",
    "    print(board['mid-L'] + '|' + board['mid-M'] + '|' + board['mid-R'])\n",
    "    print('-+-+-')\n",
    "    print(board['low-L'] + '|' + board['low-M'] + '|' + board['low-R'])\n",
    "turn = 'X'\n",
    "for i in range(9):\n",
    "    printBoard(theBoard)\n",
    "    print('Turn for ' + turn + '. Move on which space?')\n",
    "    move = input()\n",
    "    theBoard[move] = turn\n",
    "    if turn == 'X':\n",
    "         turn = 'O'\n",
    "    else:\n",
    "         turn = 'X'\n",
    "\n",
    "printBoard(theBoard)"
   ]
  },
  {
   "cell_type": "markdown",
   "metadata": {},
   "source": [
    "Para adicionar elementos num dicionário basta associar uma nova chave ao objeto e dar um valor a ser associado a ela. No Código 16 vamos colocar a informação Idade em dados_cliente.\n",
    "\n",
    "dados_cliente = {\n",
    "    'Nome': 'Renan',\n",
    "    'Endereco': 'Rua Cruzeiro do Sul',\n",
    "    'Telefone': '982503645'\n",
    "}\n",
    "\n",
    "print(dados_cliente) # {'Nome': 'Renan', 'Endereco': 'Rua Cruzeiro do Sul',\n",
    "   'Telefone': '982503645'}\n",
    "\n",
    "dados_cliente['Idade'] = 40\n",
    "\n",
    "print(dados_cliente) # {'Nome': 'Renan', 'Endereco': 'Rua Cruzeiro do Sul',\n",
    "  'Telefone': '982503645', 'Idade': 40}\n",
    "Código 16. Adicionando item no Dicionário\n",
    "Para remover um item do dicionário, podemos usar o método pop(), como vemos no Código 17.\n",
    "\n",
    "dados_cliente = {\n",
    "    'Nome': 'Renan',\n",
    "    'Endereco': 'Rua Cruzeiro do Sul',\n",
    "    'Telefone': '982503645'\n",
    "}\n",
    "\n",
    "print(dados_cliente) # {'Nome': 'Renan', 'Endereco': 'Rua Cruzeiro do Sul',\n",
    "  'Telefone': '982503645'}\n",
    "\n",
    "dados_cliente.pop('Telefone', None)\n",
    "\n",
    "print(dados_cliente) # {'Nome': 'Renan', 'Endereco': 'Rua Cruzeiro do Sul'}\n",
    "Código 17. Removendo item no Dicionário\n",
    "Na linha 9 do Código 17 temos o uso do método pop(), usado para remover o item ‘Telefone’ do dicionário dados_clientes. Temos na chamada do método o parâmetro None, que é passado depois da chave a ser removida. O None serve para que a mensagem de erro KeyError não apareça devido a remoção de uma chave inexistente.\n",
    "\n",
    "Também poderíamos usar a palavra-chave del, que remove uma chave e o valor associado a ela no dicionário. Isso se faz por meio da passagem no parâmetro, como vemos no exemplo do Código 18.\n",
    "\n",
    "dados_cliente = {\n",
    "    'Nome': 'Renan',\n",
    "    'Endereco': 'Rua Cruzeiro do Sul',\n",
    "    'Telefone': '982503645'\n",
    "}\n",
    "\n",
    "print(dados_cliente) # {'Nome': 'Renan', 'Endereco': 'Rua Cruzeiro do Sul',\n",
    "  'Telefone': '982503645'}\n",
    "\n",
    "del dados_cliente['Telefone']\n",
    "\n",
    "print(dados_cliente) # {'Nome': 'Renan', 'Endereco': 'Rua Cruzeiro do Sul'}"
   ]
  },
  {
   "cell_type": "markdown",
   "metadata": {},
   "source": [
    "# REVISÕES\n",
    "\n",
    "https://www.devmedia.com.br/colecoes-no-python-listas-tuplas-e-dicionarios/40678"
   ]
  }
 ],
 "metadata": {
  "kernelspec": {
   "display_name": "Python 3",
   "language": "python",
   "name": "python3"
  },
  "language_info": {
   "codemirror_mode": {
    "name": "ipython",
    "version": 3
   },
   "file_extension": ".py",
   "mimetype": "text/x-python",
   "name": "python",
   "nbconvert_exporter": "python",
   "pygments_lexer": "ipython3",
   "version": "3.11.9"
  },
  "orig_nbformat": 4
 },
 "nbformat": 4,
 "nbformat_minor": 2
}
