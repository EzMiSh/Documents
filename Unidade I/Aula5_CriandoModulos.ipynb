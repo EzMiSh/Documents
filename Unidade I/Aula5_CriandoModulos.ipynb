{
 "cells": [
  {
   "cell_type": "markdown",
   "metadata": {},
   "source": [
    "# Criando módulos\n",
    "\n",
    "criaremos um módulo que representa um círculo. Para isso, criamos um arquivo chamado circulo.py com o seguinte conteúdo:"
   ]
  },
  {
   "cell_type": "code",
   "execution_count": null,
   "metadata": {},
   "outputs": [],
   "source": [
    "Pi = 3.14159\n",
    "\n",
    "def area(raio):\n",
    "  return Pi * (raio ** 2)\n",
    "\n",
    "def comprimento_circunferencia(raio):\n",
    "  return 2 * Pi * raio"
   ]
  },
  {
   "cell_type": "code",
   "execution_count": null,
   "metadata": {},
   "outputs": [],
   "source": [
    "area(3)"
   ]
  },
  {
   "cell_type": "code",
   "execution_count": null,
   "metadata": {},
   "outputs": [],
   "source": [
    "comprimento_circunferencia(3)"
   ]
  },
  {
   "cell_type": "code",
   "execution_count": 21,
   "metadata": {},
   "outputs": [
    {
     "name": "stdout",
     "output_type": "stream",
     "text": [
      "3.14159\n",
      "5026.544\n",
      "251.3272\n"
     ]
    }
   ],
   "source": [
    "from modulos import circulo\n",
    "r=float(input(\"digite o raio\"))\n",
    "print(circulo.Pi)\n",
    "print(circulo.area(r))\n",
    "print(circulo.comprimento_circunferencia(r))"
   ]
  },
  {
   "cell_type": "markdown",
   "metadata": {},
   "source": [
    "# Exemplo de modulo usando calculadora\n",
    "\n",
    " Uso de menu e módulos\n"
   ]
  },
  {
   "cell_type": "code",
   "execution_count": 18,
   "metadata": {},
   "outputs": [
    {
     "name": "stdout",
     "output_type": "stream",
     "text": [
      "05/04/2024\n",
      "\n",
      "Calculadora\n",
      "-------------------------\n",
      "Escolha dos numeros\n",
      "\n"
     ]
    },
    {
     "name": "stdout",
     "output_type": "stream",
     "text": [
      "1. Soma\n",
      "2. Subtração\n",
      "3. Multiplicação\n",
      "4. Divisão\n",
      "O valor da subtração e: -40.0\n",
      "-----------------\n"
     ]
    }
   ],
   "source": [
    "from modulos import calculadora as calc\n",
    "\n",
    "import textwrap\n",
    "\n",
    "continua=\"9\"\n",
    "while continua==\"9\":\n",
    "  print(\"Escolha dos numeros\")\n",
    "  print(\"\")\n",
    "  x=float(input(\"Digite o primeiro numero: \"))\n",
    "  y=float(input(\"Digite o segundo numero: \"))\n",
    "  print(\"1. Soma\")\n",
    "  print(\"2. Subtração\")\n",
    "  print(\"3. Multiplicação\")\n",
    "  print(\"4. Divisão\")  \n",
    "  opcao = menu()\n",
    "  if opcao == \"1\":\n",
    "    print(\"O valor da Soma:\", calc.soma(x,y))\n",
    "  elif opcao ==\"2\":\n",
    "    print(\"O valor da subtração e:\", calc.subtracao(x,y))\n",
    "    print (\"-----------------\")\n",
    "  elif opcao ==\"3\":\n",
    "    print(\"O valor da Multiplicação:\", calc.multiplicacao(x,y))\n",
    "  elif opcao ==\"4\":\n",
    "    print(\"O valor da Divisão:\", calc.divisao(x,y))\n",
    "    print (\"-----------------\")\n",
    "  else:\n",
    "    print(\"Opção inválida,tente novamente\")\n",
    "  continua=input(\"Digite 9 para continuar: ou qualquer outro valor para sair: \").upper()"
   ]
  },
  {
   "cell_type": "code",
   "execution_count": null,
   "metadata": {},
   "outputs": [],
   "source": []
  }
 ],
 "metadata": {
  "kernelspec": {
   "display_name": "Python 3",
   "language": "python",
   "name": "python3"
  },
  "language_info": {
   "codemirror_mode": {
    "name": "ipython",
    "version": 3
   },
   "file_extension": ".py",
   "mimetype": "text/x-python",
   "name": "python",
   "nbconvert_exporter": "python",
   "pygments_lexer": "ipython3",
   "version": "3.11.9"
  }
 },
 "nbformat": 4,
 "nbformat_minor": 2
}
