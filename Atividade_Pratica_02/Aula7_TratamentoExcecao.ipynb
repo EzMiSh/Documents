{
 "cells": [
  {
   "cell_type": "markdown",
   "metadata": {},
   "source": [
    "# if \\_\\_name\\_\\_ == \"\\_\\_main\\_\\_\"\n",
    "Quando um interpretador de Python lê um arquivo em Python, ele primeiro define algumas variáveis especiais. Depois, ele executa o código do arquivo.\n",
    "\n",
    "Uma dessas variáveis é chamada de \\_\\_name\\_\\_."
   ]
  },
  {
   "cell_type": "code",
   "execution_count": 1,
   "metadata": {},
   "outputs": [
    {
     "name": "stdout",
     "output_type": "stream",
     "text": [
      "Alô, informatica!\n"
     ]
    }
   ],
   "source": [
    "def aloFulano(name):\n",
    "    print(f\"Alô, {name}!\")\n",
    "\n",
    "if __name__ == \"__main__\":\n",
    "    # Somente será executado se o script é executado como programa main\n",
    "    aloFulano(input(\"digite seu nome\"))\n"
   ]
  },
  {
   "cell_type": "markdown",
   "metadata": {},
   "source": [
    "Os arquivos em Python são chamados de módulos e são identificados pela extensão .py. Um módulo pode definir funções, classes e variáveis.\n",
    "\n",
    "Assim, quando o interpretador executa um módulo, a variável \\_\\_name\\_\\_ será definida como \\_\\_main\\_\\_ se o módulo que estiver sendo executado for o programa principal (main).\n",
    "\n",
    "No entanto, se o código estiver importando o módulo de outro módulo, a variável \\_\\_name\\_\\_  será definida como o nome daquele módulo.\n",
    "\n",
    "Vejamos um exemplo. Crie um módulo em Python chamado excessaoUm.py e cole esse código de nível superior nele:"
   ]
  },
  {
   "cell_type": "code",
   "execution_count": 1,
   "metadata": {},
   "outputs": [
    {
     "name": "stdout",
     "output_type": "stream",
     "text": [
      "__name__ no arquivo um está definido como: __main__\n"
     ]
    }
   ],
   "source": [
    "# módulo excecaoUm\n",
    "\n",
    "print(\"__name__ no arquivo um está definido como: {}\" .format(__name__))"
   ]
  },
  {
   "cell_type": "markdown",
   "metadata": {},
   "source": [
    "Agora vamos adicionar outro módulo, excessaoDois.py, e colar nele este código:"
   ]
  },
  {
   "cell_type": "code",
   "execution_count": null,
   "metadata": {},
   "outputs": [],
   "source": [
    "# módulo excessaoDois.py \n",
    "\n",
    "if __name__ == \"__main__\":\n",
    "   print(\"Arquivo dois executado quando rodou diretamente\")\n",
    "else:\n",
    "   print(\"Arquivo dois executado ao ser importado\")\n",
    "\n",
    "print(\"__name__ no arquivo dois está definido como: {}\" .format(__name__))\n"
   ]
  },
  {
   "cell_type": "markdown",
   "metadata": {},
   "source": [
    "Agora, vamos modificar o código em excessaoUm.py para que possamos importar o módulo excessaoDois.py dessa maneira:"
   ]
  },
  {
   "cell_type": "code",
   "execution_count": 2,
   "metadata": {},
   "outputs": [
    {
     "name": "stdout",
     "output_type": "stream",
     "text": [
      "Arquivo dois executado ao ser importado\n",
      "__name__ no arquivo dois está definido como: modulos.excecaoDois\n",
      "__name__ no arquivo um está definido como: __main__\n",
      "Arquivo um executado quando rodou diretamente\n"
     ]
    }
   ],
   "source": [
    "from modulos import excecaoDois\n",
    "\n",
    "print(\"__name__ no arquivo um está definido como: {}\" .format(__name__))\n",
    "\n",
    "if __name__ == \"__main__\":\n",
    "   print(\"Arquivo um executado quando rodou diretamente\")\n",
    "else:\n",
    "   print(\"Arquivo um executado ao ser importado\")"
   ]
  },
  {
   "cell_type": "markdown",
   "metadata": {},
   "source": [
    "A variável \\_\\_name\\_\\_ para o arquivo/módulo que é executado será sempre \\_\\_main\\_\\_. Mas a variável \\_\\_name\\_\\_ para todos os outros módulos que são importados será definida com o próprio nome do módulo."
   ]
  },
  {
   "cell_type": "markdown",
   "metadata": {},
   "source": [
    "Use a variável \\_\\_name\\_\\_, caso você queira que um arquivo seja executado como o programa principal (main) ou importado por outros módulos. Podemos usar um bloco if \\_\\_name\\_\\_ == \"\\_\\_main\\_\\_\" para permitir ou evitar que partes do código sejam executadas ao importar os módulos.\n",
    "\n",
    "Quando o interpretador do Python lê um arquivo, a variável \\_\\_name\\_\\_ é definida como \\_\\_main\\_\\_ se o módulo que está sendo executado, ou como o nome do módulo se ele for importado. Ler o arquivo executará todo o código de nível superior, mas não as funções e classes (já que elas serão apenas importadas)."
   ]
  }
 ],
 "metadata": {
  "kernelspec": {
   "display_name": "Python 3",
   "language": "python",
   "name": "python3"
  },
  "language_info": {
   "codemirror_mode": {
    "name": "ipython",
    "version": 3
   },
   "file_extension": ".py",
   "mimetype": "text/x-python",
   "name": "python",
   "nbconvert_exporter": "python",
   "pygments_lexer": "ipython3",
   "version": "3.11.9"
  }
 },
 "nbformat": 4,
 "nbformat_minor": 2
}
