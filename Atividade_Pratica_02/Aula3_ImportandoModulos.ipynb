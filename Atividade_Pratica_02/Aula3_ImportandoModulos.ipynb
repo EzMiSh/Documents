{
 "cells": [
  {
   "cell_type": "markdown",
   "metadata": {},
   "source": [
    "# Importando Módulos\n",
    "Todos os programas Python podem chamar um conjunto básico de funções chamadas funções integradas , incluindo as funções print() , input() e len() que você já viu antes. \n",
    "\n",
    "Python também vem com um conjunto de módulos chamado biblioteca padrão . Cada módulo é um programa Python que contém um grupo relacionado de funções que podem ser incorporadas em seus programas. Por exemplo, o módulo \"math\" possui funções relacionadas à matemática, o módulo aleatório possui funções relacionadas a números aleatórios e assim por diante.\n",
    "\n",
    "Antes de poder usar as funções em um módulo, você deve importar o módulo com uma instrução import . No código, uma instrução de importação consiste no seguinte:\n",
    "\n",
    "* A palavra-chave de importação\n",
    "* O nome do módulo\n",
    "* Opcionalmente, mais nomes de módulos, desde que separados por vírgulas\n",
    "\n",
    "Depois de importar um módulo, você pode usar todas as funções interessantes desse módulo. Vamos tentar com o módulo random , que nos dará acesso à função random.randint() ."
   ]
  },
  {
   "cell_type": "code",
   "execution_count": null,
   "metadata": {},
   "outputs": [],
   "source": [
    "import random\n",
    "for i in range(5):\n",
    "    print(random.randint(1, 10))"
   ]
  },
  {
   "cell_type": "markdown",
   "metadata": {},
   "source": [
    "> Ao salvar seus scripts Python, tome cuidado para não dar a eles um nome que seja usado por um dos módulos do Python, como random.py , sys.py , os.py ou math.py . Se você acidentalmente nomear um de seus programas, digamos, random.py , e usar uma instrução import random em outro programa, seu programa importaria seu arquivo random.py em vez do módulo aleatório do Python . Isso pode levar a erros como AttributeError: module 'random' has no attribute 'randint' , já que seu random.py não possui as funções que o módulo aleatório real possui. Também não use os nomes de nenhuma função interna do Python, como print() ou input() ."
   ]
  },
  {
   "cell_type": "markdown",
   "metadata": {},
   "source": [
    "# Encerrando um programa antecipadamente com a função sys.exit()\n",
    "Os programas sempre terminam se a execução do programa atingir o final das instruções. No entanto, você pode fazer com que o programa seja encerrado ou encerrado antes da última instrução chamando a função sys.exit() . Como esta função está no módulo sys , você deve importar sys antes que seu programa possa usá-la."
   ]
  },
  {
   "cell_type": "code",
   "execution_count": null,
   "metadata": {},
   "outputs": [],
   "source": [
    "import sys\n",
    "\n",
    "while True:\n",
    "    print('Type exit to exit.')\n",
    "    response = input()\n",
    "    if response == 'exit':\n",
    "        sys.exit()\n",
    "    print('You typed ' + response + '.')"
   ]
  },
  {
   "cell_type": "code",
   "execution_count": null,
   "metadata": {},
   "outputs": [],
   "source": [
    "ex.sys"
   ]
  },
  {
   "cell_type": "markdown",
   "metadata": {},
   "source": [
    "# Um programa curto: Adivinhe o número\n"
   ]
  },
  {
   "cell_type": "code",
   "execution_count": null,
   "metadata": {},
   "outputs": [],
   "source": [
    "# This is a guess the number game.\n",
    "import random\n",
    "secretNumber = random.randint(1, 20)\n",
    "print('I am thinking of a number between 1 and 20.')\n",
    "\n",
    "# Ask the player to guess 6 times.\n",
    "for guessesTaken in range(1, 7):\n",
    "    print('Take a guess.')\n",
    "    guess = int(input())\n",
    "\n",
    "    if guess < secretNumber:\n",
    "        print('Your guess is too low.')\n",
    "    elif guess > secretNumber:\n",
    "        print('Your guess is too high.')\n",
    "    else:\n",
    "        break    # This condition is the correct guess!\n",
    "\n",
    "if guess == secretNumber:\n",
    "    print('Good job! You guessed my number in ' + str(guessesTaken) + 'guesses!')\n",
    "else:\n",
    "    print('Nope. The number I was thinking of was ' + str(secretNumber))"
   ]
  },
  {
   "cell_type": "markdown",
   "metadata": {},
   "source": [
    "https://autbor.com/guessthenumber/"
   ]
  },
  {
   "cell_type": "code",
   "execution_count": null,
   "metadata": {},
   "outputs": [],
   "source": [
    "import math #importa a biblioteca\n",
    "num = int(input(\"Digite o número que quer calcular a raiz quadrada: \"))\n",
    "raiz = math.sqrt(num) # A função sqrt() do módulo 'math' calcula a raiz quadrada \n",
    "print(\"A raiz quadrada de {num} é {raiz:.3g}\".format(num=num,raiz=raiz))"
   ]
  },
  {
   "cell_type": "code",
   "execution_count": null,
   "metadata": {},
   "outputs": [],
   "source": [
    "ang_graus = int(input(\"Digite um ângulo (Em graus): \"))\n",
    "ang_rad = ang_graus*math.pi/180 #Observe que estamos utilizando a constante pi\n",
    "seno = math.sin(ang_rad) # A função sin() calcula o seno de um ângulo\n",
    "print(\"O seno de {ang_graus}° é {seno:.5f}\".format(ang_graus=ang_graus,seno=seno))\n",
    "#f or F\tFloating point\n",
    "#g or G\tFloating point or Exponential"
   ]
  },
  {
   "cell_type": "markdown",
   "metadata": {},
   "source": [
    "from [módulo] import [função1], [função2], [constante1], [etc]"
   ]
  },
  {
   "cell_type": "code",
   "execution_count": null,
   "metadata": {},
   "outputs": [],
   "source": [
    "from math import pi\n",
    "pi"
   ]
  },
  {
   "cell_type": "code",
   "execution_count": null,
   "metadata": {},
   "outputs": [],
   "source": [
    "# Utilizando from import\n",
    "from math import factorial\n",
    "numero = int(input(\"Digite um valor: \"))\n",
    "fat = factorial(numero)\n",
    "print(\"O fatorial de {} é {}.\".format(numero, fat))"
   ]
  },
  {
   "cell_type": "markdown",
   "metadata": {},
   "source": [
    "# Renomeando módulos\n",
    "Uma outra forma de importar módulos é renomeando-o. Observe novamente o exemplo do fatorial:\n"
   ]
  },
  {
   "cell_type": "code",
   "execution_count": null,
   "metadata": {},
   "outputs": [],
   "source": [
    "import math as m\n",
    "numero = int(input(\"Digite um valor: \"))\n",
    "fat = m.factorial(numero)\n",
    "print(\"O fatorial de {} é {}.\".format(numero, fat))"
   ]
  },
  {
   "cell_type": "markdown",
   "metadata": {},
   "source": [
    "# Classificação das bibliotecas de Python\n",
    "Essas bibliotecas podem ser classificadas em pelo menos 06 tipos diferentes, sendo eles: Processamento de dados, Visualização de dados, Aprendizado de máquina, Web Scraping (extração de informações da web), Geração de números aleatórios e Processamento de linguagem.\n",
    "\n",
    "Bibliotecas de processamento de dados: Pandas, Numpy, etc. Essas bibliotecas são usadas para manipular e processar dados em formato tabular ou matricial.\n",
    "\n",
    "Bibliotecas de visualização de dados: Matplotlib, Seaborn, etc. Essas bibliotecas são usadas para criar gráficos e visualizações de dados para ajudar na análise e interpretação dos dados.\n",
    "\n",
    "Bibliotecas de aprendizado de máquina: Scikit-Learn, Tensorflow, Keras, etc. Essas bibliotecas são usadas para criar modelos de aprendizado de máquina e realizar tarefas de inteligência artificial.\n",
    "\n",
    "Bibliotecas de web scraping: BeautifulSoup, Scrapy, etc. Essas bibliotecas são usadas para extrair informações de páginas da web.\n",
    "\n",
    "Bibliotecas de geração de números aleatórios: random, numpy.random, etc. Essas bibliotecas são usadas para gerar números aleatórios para vários fins, incluindo simulações e testes.\n",
    "\n",
    "Bibliotecas de processamento de linguagem natural: NLTK, SpaCy, PyDictionary, etc. Essas bibliotecas são usadas para processar texto e realizar tarefas de processamento de linguagem natural, como análise de sentimentos e extração de informações.\n",
    "\n",
    "Outras bibliotecas mais específicas: Flask, PYGame, PyAutoGui, PyOD, Pyglet, etc. Cada uma dessas bibliotecas são usadas para uma finalidade específica, tais quais criar APIS, desenvolver jogos, realizar tarefas de automação, detectar valores e criar aplicativos interativos."
   ]
  },
  {
   "cell_type": "markdown",
   "metadata": {},
   "source": [
    "# Importação de bibliotecas externas\n",
    "Além dos módulos que fazem parte da biblioteca padrão do Python, existem diversas bibliotecas externas que podem ser instaladas e importadas para adicionar funcionalidades extras ao seu código.\n",
    "\n",
    "pip install numpy"
   ]
  },
  {
   "cell_type": "code",
   "execution_count": 1,
   "metadata": {},
   "outputs": [
    {
     "name": "stdout",
     "output_type": "stream",
     "text": [
      "Raiz quadrada do array1  :  [1. 2. 3. 4.]\n",
      "Raiz quadrada do array2  :  [2.44948974 3.16227766 4.24264069]\n"
     ]
    }
   ],
   "source": [
    "import numpy as np  \n",
    "\n",
    "arr1 = np.sqrt([1, 4, 9, 16]) \n",
    "arr2 = np.sqrt([6, 10, 18])\n",
    "\n",
    " \n",
    "print(\"Raiz quadrada do array1  : \", arr1) \n",
    "print(\"Raiz quadrada do array2  : \", arr2)"
   ]
  },
  {
   "cell_type": "code",
   "execution_count": 2,
   "metadata": {},
   "outputs": [
    {
     "ename": "TypeError",
     "evalue": "must be real number, not list",
     "output_type": "error",
     "traceback": [
      "\u001b[1;31m---------------------------------------------------------------------------\u001b[0m",
      "\u001b[1;31mTypeError\u001b[0m                                 Traceback (most recent call last)",
      "Cell \u001b[1;32mIn[2], line 3\u001b[0m\n\u001b[0;32m      1\u001b[0m \u001b[38;5;28;01mimport\u001b[39;00m \u001b[38;5;21;01mmath\u001b[39;00m \u001b[38;5;28;01mas\u001b[39;00m \u001b[38;5;21;01mm\u001b[39;00m \n\u001b[1;32m----> 3\u001b[0m arr1 \u001b[38;5;241m=\u001b[39m \u001b[43mm\u001b[49m\u001b[38;5;241;43m.\u001b[39;49m\u001b[43msqrt\u001b[49m\u001b[43m(\u001b[49m\u001b[43m[\u001b[49m\u001b[38;5;241;43m1\u001b[39;49m\u001b[43m,\u001b[49m\u001b[43m \u001b[49m\u001b[38;5;241;43m4\u001b[39;49m\u001b[43m,\u001b[49m\u001b[43m \u001b[49m\u001b[38;5;241;43m9\u001b[39;49m\u001b[43m,\u001b[49m\u001b[43m \u001b[49m\u001b[38;5;241;43m16\u001b[39;49m\u001b[43m]\u001b[49m\u001b[43m)\u001b[49m \n\u001b[0;32m      4\u001b[0m arr2 \u001b[38;5;241m=\u001b[39m m\u001b[38;5;241m.\u001b[39msqrt([\u001b[38;5;241m6\u001b[39m, \u001b[38;5;241m10\u001b[39m, \u001b[38;5;241m18\u001b[39m])\n\u001b[0;32m      7\u001b[0m \u001b[38;5;28mprint\u001b[39m(\u001b[38;5;124m\"\u001b[39m\u001b[38;5;124mRaiz quadrada do array1  : \u001b[39m\u001b[38;5;124m\"\u001b[39m, arr1) \n",
      "\u001b[1;31mTypeError\u001b[0m: must be real number, not list"
     ]
    }
   ],
   "source": [
    "import math as m \n",
    "\n",
    "arr1 = m.sqrt([1, 4, 9, 16]) \n",
    "arr2 = m.sqrt([6, 10, 18])\n",
    "\n",
    " \n",
    "print(\"Raiz quadrada do array1  : \", arr1) \n",
    "print(\"Raiz quadrada do array2  : \", arr2)"
   ]
  },
  {
   "cell_type": "code",
   "execution_count": null,
   "metadata": {},
   "outputs": [],
   "source": [
    "arr3 = round(arr2)\n",
    "print(\"Raiz quadrada do array2  : \", arr3)"
   ]
  },
  {
   "cell_type": "code",
   "execution_count": null,
   "metadata": {},
   "outputs": [],
   "source": [
    "arr3 = np.round(arr2,2)\n",
    "print(\"Raiz quadrada do array2  : \", arr3)"
   ]
  },
  {
   "cell_type": "markdown",
   "metadata": {},
   "source": [
    "NumPy: Biblioteca para cálculos numéricos e manipulação de arrays multidimensionais.\n",
    "\n",
    "Pandas: Biblioteca para análise de dados e manipulação de estruturas de dados.\n",
    "\n",
    "Matplotlib: Biblioteca para visualização de dados em gráficos e plots.\n",
    "\n",
    "Scikit-learn: Biblioteca para aprendizado de máquina e mineração de dados.\n",
    "\n",
    "TensorFlow: Biblioteca para desenvolvimento e implantação de modelos de aprendizado de máquina.\n",
    "\n",
    "Django: Framework para desenvolvimento de aplicativos web.\n",
    "\n",
    "Flask: Microframework para desenvolvimento de aplicativos web.\n",
    "\n",
    "Requests: Biblioteca para realizar requisições HTTP.\n",
    "\n",
    "BeautifulSoup: Biblioteca para análise e extração de informações de páginas web."
   ]
  },
  {
   "cell_type": "markdown",
   "metadata": {},
   "source": [
    "Um módulo é um arquivo contendo definições e instruções Python que podem ser importadas e utilizadas em outros programas."
   ]
  },
  {
   "cell_type": "markdown",
   "metadata": {},
   "source": [
    "Uma biblioteca em Python é um conjunto de módulos e funções pré-definidos que podem ser utilizados para facilitar o desenvolvimento de programas. Em outras palavras, é um conjunto de código que já foi escrito e pode ser reutilizado em diferentes projetos."
   ]
  }
 ],
 "metadata": {
  "kernelspec": {
   "display_name": "Python 3",
   "language": "python",
   "name": "python3"
  },
  "language_info": {
   "codemirror_mode": {
    "name": "ipython",
    "version": 3
   },
   "file_extension": ".py",
   "mimetype": "text/x-python",
   "name": "python",
   "nbconvert_exporter": "python",
   "pygments_lexer": "ipython3",
   "version": "3.11.9"
  }
 },
 "nbformat": 4,
 "nbformat_minor": 2
}
