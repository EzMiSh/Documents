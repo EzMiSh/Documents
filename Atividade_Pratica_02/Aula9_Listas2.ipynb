{
 "cells": [
  {
   "cell_type": "markdown",
   "metadata": {},
   "source": [
    "# Métodos\n",
    "Um método é a mesma coisa que uma função, exceto que é “chamado” por um valor. \n",
    "\n",
    "Por exemplo, \n",
    "    se um valor de lista fosse armazenado em spam , \n",
    "    você chamaria o método de lista index() nessa lista da seguinte forma: \n",
    "            \n",
    "            spam.index('hello') . \n",
    "\n",
    "A parte do método vem depois do valor, separada por um ponto.\n",
    "\n",
    "Cada tipo de dados possui seu próprio conjunto de métodos. \n",
    "\n",
    "O tipo de dados lista, por exemplo, possui vários métodos úteis para \n",
    "localizar, \n",
    "adicionar, \n",
    "remover e \n",
    "manipular valores em uma lista.\n",
    "\n",
    "Os valores da lista têm um método index() que pode receber um valor e, se esse valor existir na lista, o índice do valor será retornado. \n",
    "\n",
    "Se o valor não estiver na lista, o Python produzirá um erro ValueError ."
   ]
  },
  {
   "cell_type": "code",
   "execution_count": null,
   "metadata": {},
   "outputs": [],
   "source": [
    "spam = ['hello', 'hi', 'howdy', 'heyas']"
   ]
  },
  {
   "cell_type": "code",
   "execution_count": 2,
   "metadata": {},
   "outputs": [
    {
     "data": {
      "text/plain": [
       "0"
      ]
     },
     "execution_count": 2,
     "metadata": {},
     "output_type": "execute_result"
    }
   ],
   "source": [
    "spam.index('hello')"
   ]
  },
  {
   "cell_type": "code",
   "execution_count": 3,
   "metadata": {},
   "outputs": [
    {
     "data": {
      "text/plain": [
       "2"
      ]
     },
     "execution_count": 3,
     "metadata": {},
     "output_type": "execute_result"
    }
   ],
   "source": [
    "spam.index('howdy')"
   ]
  },
  {
   "cell_type": "markdown",
   "metadata": {},
   "source": [
    "Quando há duplicatas do valor na lista, o índice de sua primeira aparição é retornado."
   ]
  },
  {
   "cell_type": "code",
   "execution_count": 4,
   "metadata": {},
   "outputs": [
    {
     "data": {
      "text/plain": [
       "1"
      ]
     },
     "execution_count": 4,
     "metadata": {},
     "output_type": "execute_result"
    }
   ],
   "source": [
    "spam = ['Zophie', 'Pooka', 'Fat-tail', 'Pooka']\n",
    "spam.index('Pooka')"
   ]
  },
  {
   "cell_type": "markdown",
   "metadata": {},
   "source": [
    "Adicionando valores a listas com os métodos append() e insert()\n",
    "\n",
    "Para adicionar novos valores a uma lista, use os métodos append() e insert() . "
   ]
  },
  {
   "cell_type": "code",
   "execution_count": 5,
   "metadata": {},
   "outputs": [
    {
     "data": {
      "text/plain": [
       "['gato', 'cachorro', 'morcego', 'alce']"
      ]
     },
     "execution_count": 5,
     "metadata": {},
     "output_type": "execute_result"
    }
   ],
   "source": [
    "spam = ['gato', 'cachorro', 'morcego']\n",
    "spam.append('alce')\n",
    "spam"
   ]
  },
  {
   "cell_type": "code",
   "execution_count": 6,
   "metadata": {},
   "outputs": [
    {
     "data": {
      "text/plain": [
       "['gato', 'galinha', 'cachorro', 'morcego']"
      ]
     },
     "execution_count": 6,
     "metadata": {},
     "output_type": "execute_result"
    }
   ],
   "source": [
    "spam = ['gato', 'cachorro', 'morcego']\n",
    "spam.insert(1, 'galinha' )\n",
    "spam"
   ]
  },
  {
   "cell_type": "markdown",
   "metadata": {},
   "source": [
    "Os métodos append() e insert() são métodos de lista e podem ser chamados apenas em valores de lista, não em outros valores, como strings ou inteiros"
   ]
  },
  {
   "cell_type": "code",
   "execution_count": 7,
   "metadata": {},
   "outputs": [
    {
     "ename": "AttributeError",
     "evalue": "'int' object has no attribute 'insert'",
     "output_type": "error",
     "traceback": [
      "\u001b[1;31m---------------------------------------------------------------------------\u001b[0m",
      "\u001b[1;31mAttributeError\u001b[0m                            Traceback (most recent call last)",
      "Cell \u001b[1;32mIn[7], line 2\u001b[0m\n\u001b[0;32m      1\u001b[0m bacon \u001b[38;5;241m=\u001b[39m \u001b[38;5;241m42\u001b[39m\n\u001b[1;32m----> 2\u001b[0m \u001b[43mbacon\u001b[49m\u001b[38;5;241;43m.\u001b[39;49m\u001b[43minsert\u001b[49m(\u001b[38;5;241m1\u001b[39m, \u001b[38;5;124m'\u001b[39m\u001b[38;5;124mworld\u001b[39m\u001b[38;5;124m'\u001b[39m)\n",
      "\u001b[1;31mAttributeError\u001b[0m: 'int' object has no attribute 'insert'"
     ]
    }
   ],
   "source": [
    "bacon = 42\n",
    "bacon.insert(1, 'world')"
   ]
  },
  {
   "cell_type": "markdown",
   "metadata": {},
   "source": [
    "O método remove() recebe o valor a ser removido da lista em que é chamado."
   ]
  },
  {
   "cell_type": "code",
   "execution_count": 8,
   "metadata": {},
   "outputs": [
    {
     "data": {
      "text/plain": [
       "['gato', 'rato', 'elefante']"
      ]
     },
     "execution_count": 8,
     "metadata": {},
     "output_type": "execute_result"
    }
   ],
   "source": [
    "spam = ['gato', 'morcego', 'rato', 'elefante']\n",
    "spam.remove('morcego')\n",
    "spam"
   ]
  },
  {
   "cell_type": "markdown",
   "metadata": {},
   "source": [
    "Classificando os valores em uma lista com o método sort()\n",
    "Listas de valores numéricos ou listas de strings podem ser classificadas com o método sort() . "
   ]
  },
  {
   "cell_type": "code",
   "execution_count": 9,
   "metadata": {},
   "outputs": [
    {
     "data": {
      "text/plain": [
       "[-7, 1, 2, 3.14, 5]"
      ]
     },
     "execution_count": 9,
     "metadata": {},
     "output_type": "execute_result"
    }
   ],
   "source": [
    "spam = [2, 5, 3.14, 1, -7]\n",
    "spam.sort()\n",
    "spam\n"
   ]
  },
  {
   "cell_type": "code",
   "execution_count": 10,
   "metadata": {},
   "outputs": [
    {
     "data": {
      "text/plain": [
       "['ants', 'badgers', 'cats', 'dogs', 'elephants']"
      ]
     },
     "execution_count": 10,
     "metadata": {},
     "output_type": "execute_result"
    }
   ],
   "source": [
    "spam = ['ants', 'cats', 'dogs', 'badgers', 'elephants']\n",
    "spam.sort()\n",
    "spam"
   ]
  },
  {
   "cell_type": "code",
   "execution_count": 11,
   "metadata": {},
   "outputs": [
    {
     "data": {
      "text/plain": [
       "['elephants', 'dogs', 'cats', 'badgers', 'ants']"
      ]
     },
     "execution_count": 11,
     "metadata": {},
     "output_type": "execute_result"
    }
   ],
   "source": [
    "spam.sort(reverse=True)\n",
    "spam"
   ]
  },
  {
   "cell_type": "markdown",
   "metadata": {},
   "source": [
    "você não pode classificar listas que contenham valores numéricos e valores de string, pois o Python não sabe como comparar esses valores. "
   ]
  },
  {
   "cell_type": "code",
   "execution_count": 12,
   "metadata": {},
   "outputs": [
    {
     "ename": "TypeError",
     "evalue": "'<' not supported between instances of 'str' and 'int'",
     "output_type": "error",
     "traceback": [
      "\u001b[1;31m---------------------------------------------------------------------------\u001b[0m",
      "\u001b[1;31mTypeError\u001b[0m                                 Traceback (most recent call last)",
      "Cell \u001b[1;32mIn[12], line 2\u001b[0m\n\u001b[0;32m      1\u001b[0m spam \u001b[38;5;241m=\u001b[39m [\u001b[38;5;241m1\u001b[39m, \u001b[38;5;241m3\u001b[39m, \u001b[38;5;241m2\u001b[39m, \u001b[38;5;241m4\u001b[39m, \u001b[38;5;124m'\u001b[39m\u001b[38;5;124mAlice\u001b[39m\u001b[38;5;124m'\u001b[39m, \u001b[38;5;124m'\u001b[39m\u001b[38;5;124mBob\u001b[39m\u001b[38;5;124m'\u001b[39m]\n\u001b[1;32m----> 2\u001b[0m \u001b[43mspam\u001b[49m\u001b[38;5;241;43m.\u001b[39;49m\u001b[43msort\u001b[49m\u001b[43m(\u001b[49m\u001b[43m)\u001b[49m\n",
      "\u001b[1;31mTypeError\u001b[0m: '<' not supported between instances of 'str' and 'int'"
     ]
    }
   ],
   "source": [
    "spam = [1, 3, 2, 4, 'Alice', 'Bob']\n",
    "spam.sort()"
   ]
  },
  {
   "cell_type": "code",
   "execution_count": 13,
   "metadata": {},
   "outputs": [
    {
     "data": {
      "text/plain": [
       "['Alice', 'Bob', 'Carol', 'ants', 'badgers', 'cats']"
      ]
     },
     "execution_count": 13,
     "metadata": {},
     "output_type": "execute_result"
    }
   ],
   "source": [
    "spam = ['Alice', 'ants', 'Bob', 'badgers', 'Carol', 'cats']\n",
    "spam.sort()\n",
    "spam"
   ]
  },
  {
   "cell_type": "code",
   "execution_count": 14,
   "metadata": {},
   "outputs": [
    {
     "data": {
      "text/plain": [
       "['a', 'A', 'z', 'Z']"
      ]
     },
     "execution_count": 14,
     "metadata": {},
     "output_type": "execute_result"
    }
   ],
   "source": [
    "spam = ['a', 'z', 'A', 'Z']\n",
    "spam.sort(key=str.lower)\n",
    "spam"
   ]
  },
  {
   "cell_type": "code",
   "execution_count": 15,
   "metadata": {},
   "outputs": [
    {
     "data": {
      "text/plain": [
       "['moose', 'dog', 'cat']"
      ]
     },
     "execution_count": 15,
     "metadata": {},
     "output_type": "execute_result"
    }
   ],
   "source": [
    "spam = ['cat', 'dog', 'moose']\n",
    "spam.reverse()\n",
    "spam"
   ]
  },
  {
   "cell_type": "code",
   "execution_count": 16,
   "metadata": {},
   "outputs": [
    {
     "name": "stdout",
     "output_type": "stream",
     "text": [
      "Reply hazy try again\n"
     ]
    }
   ],
   "source": [
    "import random\n",
    "\n",
    "messages = ['It is certain',\n",
    "    'It is decidedly so',\n",
    "    'Yes definitely',\n",
    "    'Reply hazy try again',\n",
    "    'Ask again later',\n",
    "    'Concentrate and ask again',\n",
    "    'My reply is no',\n",
    "    'Outlook not so good',\n",
    "    'Very doubtful']\n",
    "\n",
    "print(messages[random.randint(0, len(messages) - 1)])"
   ]
  },
  {
   "cell_type": "markdown",
   "metadata": {},
   "source": [
    "# Tipos de dados mutáveis ​​e imutáveis"
   ]
  },
  {
   "cell_type": "code",
   "execution_count": 17,
   "metadata": {},
   "outputs": [
    {
     "ename": "TypeError",
     "evalue": "'str' object does not support item assignment",
     "output_type": "error",
     "traceback": [
      "\u001b[1;31m---------------------------------------------------------------------------\u001b[0m",
      "\u001b[1;31mTypeError\u001b[0m                                 Traceback (most recent call last)",
      "Cell \u001b[1;32mIn[17], line 2\u001b[0m\n\u001b[0;32m      1\u001b[0m name \u001b[38;5;241m=\u001b[39m \u001b[38;5;124m'\u001b[39m\u001b[38;5;124mZophie a cat\u001b[39m\u001b[38;5;124m'\u001b[39m\n\u001b[1;32m----> 2\u001b[0m \u001b[43mname\u001b[49m\u001b[43m[\u001b[49m\u001b[38;5;241;43m7\u001b[39;49m\u001b[43m]\u001b[49m \u001b[38;5;241m=\u001b[39m \u001b[38;5;124m'\u001b[39m\u001b[38;5;124mthe\u001b[39m\u001b[38;5;124m'\u001b[39m\n",
      "\u001b[1;31mTypeError\u001b[0m: 'str' object does not support item assignment"
     ]
    }
   ],
   "source": [
    "name = 'Zophie a cat'\n",
    "name[7] = 'the'"
   ]
  },
  {
   "cell_type": "code",
   "execution_count": 18,
   "metadata": {},
   "outputs": [
    {
     "data": {
      "text/plain": [
       "'Zophie a cat'"
      ]
     },
     "execution_count": 18,
     "metadata": {},
     "output_type": "execute_result"
    }
   ],
   "source": [
    "name = 'Zophie a cat'\n",
    "newName = name[0:7] + 'the' + name[8:12]\n",
    "name"
   ]
  },
  {
   "cell_type": "code",
   "execution_count": 19,
   "metadata": {},
   "outputs": [
    {
     "data": {
      "text/plain": [
       "'Zophie the cat'"
      ]
     },
     "execution_count": 19,
     "metadata": {},
     "output_type": "execute_result"
    }
   ],
   "source": [
    "newName"
   ]
  },
  {
   "cell_type": "code",
   "execution_count": null,
   "metadata": {},
   "outputs": [],
   "source": [
    "eggs = [1, 2, 3]\n",
    "eggs = [4, 5, 6]\n",
    "eggs"
   ]
  },
  {
   "cell_type": "markdown",
   "metadata": {},
   "source": [
    "![Alt text](..\\Figuras\\image-9.png)"
   ]
  },
  {
   "cell_type": "markdown",
   "metadata": {},
   "source": [
    "eggs = [1, 2, 3]\n",
    "del eggs[2]\n",
    "del eggs[1]\n",
    "del eggs[0]\n",
    "eggs.append(4)\n",
    "eggs.append(5)\n",
    "eggs.append(6)\n",
    "eggs"
   ]
  },
  {
   "cell_type": "markdown",
   "metadata": {},
   "source": [
    "![Alt text](..\\Figuras\\image-10.png)"
   ]
  },
  {
   "cell_type": "markdown",
   "metadata": {},
   "source": [
    "# O tipo de dados tupla\n",
    "O tipo de dados tupla é quase idêntico ao tipo de dados lista, exceto de duas maneiras. \n",
    "Primeiro, as tuplas são digitadas com parênteses, ( e ) , em vez de colchetes, [ e ] . \n",
    "Mas a principal diferença entre as tuplas e as listas é que as tuplas, assim como as strings, são imutáveis. \n",
    "As tuplas não podem ter seus valores modificados, acrescentados ou removidos."
   ]
  },
  {
   "cell_type": "code",
   "execution_count": 20,
   "metadata": {},
   "outputs": [
    {
     "data": {
      "text/plain": [
       "'hello'"
      ]
     },
     "execution_count": 20,
     "metadata": {},
     "output_type": "execute_result"
    }
   ],
   "source": [
    "eggs = ('hello', 42, 0.5)\n",
    "eggs[0]"
   ]
  },
  {
   "cell_type": "code",
   "execution_count": 21,
   "metadata": {},
   "outputs": [
    {
     "data": {
      "text/plain": [
       "(42, 0.5)"
      ]
     },
     "execution_count": 21,
     "metadata": {},
     "output_type": "execute_result"
    }
   ],
   "source": [
    "eggs[1:3]"
   ]
  },
  {
   "cell_type": "code",
   "execution_count": 22,
   "metadata": {},
   "outputs": [
    {
     "data": {
      "text/plain": [
       "3"
      ]
     },
     "execution_count": 22,
     "metadata": {},
     "output_type": "execute_result"
    }
   ],
   "source": [
    "\n",
    "len(eggs)"
   ]
  },
  {
   "cell_type": "code",
   "execution_count": 23,
   "metadata": {},
   "outputs": [
    {
     "ename": "TypeError",
     "evalue": "'tuple' object does not support item assignment",
     "output_type": "error",
     "traceback": [
      "\u001b[1;31m---------------------------------------------------------------------------\u001b[0m",
      "\u001b[1;31mTypeError\u001b[0m                                 Traceback (most recent call last)",
      "Cell \u001b[1;32mIn[23], line 1\u001b[0m\n\u001b[1;32m----> 1\u001b[0m \u001b[43meggs\u001b[49m\u001b[43m[\u001b[49m\u001b[38;5;241;43m1\u001b[39;49m\u001b[43m]\u001b[49m \u001b[38;5;241m=\u001b[39m \u001b[38;5;241m99\u001b[39m\n",
      "\u001b[1;31mTypeError\u001b[0m: 'tuple' object does not support item assignment"
     ]
    }
   ],
   "source": [
    "eggs[1] = 99"
   ]
  },
  {
   "cell_type": "markdown",
   "metadata": {},
   "source": [
    "Se você precisar de uma sequência ordenada de valores que nunca mude, use uma tupla. Um segundo benefício de usar tuplas em vez de listas é que, por serem imutáveis ​​e seu conteúdo não mudar, o Python pode implementar algumas otimizações que tornam o código que usa tuplas um pouco mais rápido do que o código que usa listas."
   ]
  },
  {
   "cell_type": "markdown",
   "metadata": {},
   "source": [
    "Uma observação a ser feita no uso de uma tupla é que se ela tiver um único item, é necessário colocar uma vírgula depois dele, pois caso contrário, o objeto que vamos obter é uma string, porque o valor do item é do tipo string."
   ]
  },
  {
   "cell_type": "code",
   "execution_count": 24,
   "metadata": {},
   "outputs": [
    {
     "name": "stdout",
     "output_type": "stream",
     "text": [
      "<class 'str'>\n",
      "<class 'tuple'>\n"
     ]
    }
   ],
   "source": [
    "objeto_string = ('tesoura')\n",
    "objeto_tupla = ('tesoura',)\n",
    "\n",
    "print(type(objeto_string)) # class 'str'\n",
    "print(type(objeto_tupla)) # class 'tuple'"
   ]
  },
  {
   "cell_type": "markdown",
   "metadata": {},
   "source": [
    "O fato da tupla ser imutável faz com que os seus elementos não possam ser alterados depois dela já criada. Vamos usar a tupla vogais para mostrar um exemplo desse tipo. O Código 14 exibirá o erro TypeError: 'tuple' object does not support item assignment.\n",
    "\n",
    "vogais = ('a', 'e', 'i', 'o', 'u')\n",
    "\n",
    "vogais[1] = 'E'\n",
    "Código 14. Erro ao alterar valor da tupla\n",
    "Veja que não é possível fazer alteração nas tuplas. Diferentemente do que acontece com as listas, não podemos trocar os elementos de um objeto do tipo tupla, pois se trata de uma sequência imutável.\n",
    "\n",
    "Para fixar esse conceito, lembre-se que as tuplas e as strings são sequências imutáveis. Já as listas são sequências mutáveis. Isso está de acordo com a documentação oficial do Python.\n",
    "As tuplas devem ser usadas em situações em que não haverá necessidade de adicionar, remover ou alterar elementos de um grupo de itens. Exemplos bons seriam os meses do ano, os dias da semana, as estações do ano etc. Nesses casos, não haverá mudança nesses itens (pelo menos isso é muito improvável)."
   ]
  },
  {
   "cell_type": "markdown",
   "metadata": {},
   "source": [
    "# Convertendo tipos com as funções list() e tuple()"
   ]
  },
  {
   "cell_type": "code",
   "execution_count": 25,
   "metadata": {},
   "outputs": [
    {
     "data": {
      "text/plain": [
       "('cat', 'dog', 5)"
      ]
     },
     "execution_count": 25,
     "metadata": {},
     "output_type": "execute_result"
    }
   ],
   "source": [
    "eggs = ['cat', 'dog', 5]\n",
    "tuple(eggs)"
   ]
  },
  {
   "cell_type": "code",
   "execution_count": 26,
   "metadata": {},
   "outputs": [
    {
     "data": {
      "text/plain": [
       "['cat', 99, 5]"
      ]
     },
     "execution_count": 26,
     "metadata": {},
     "output_type": "execute_result"
    }
   ],
   "source": [
    "eggs[1] = 99\n",
    "eggs"
   ]
  },
  {
   "cell_type": "code",
   "execution_count": 27,
   "metadata": {},
   "outputs": [
    {
     "data": {
      "text/plain": [
       "list['cat', '10', 'dog']"
      ]
     },
     "execution_count": 27,
     "metadata": {},
     "output_type": "execute_result"
    }
   ],
   "source": [
    "list[('cat', '10', 'dog')]"
   ]
  },
  {
   "cell_type": "markdown",
   "metadata": {},
   "source": [
    "# Referências"
   ]
  },
  {
   "cell_type": "code",
   "execution_count": 28,
   "metadata": {},
   "outputs": [
    {
     "data": {
      "text/plain": [
       "42"
      ]
     },
     "execution_count": 28,
     "metadata": {},
     "output_type": "execute_result"
    }
   ],
   "source": [
    "var1 = 42\n",
    "var2 = var1\n",
    "var1 = 100\n",
    "var2\n"
   ]
  },
  {
   "cell_type": "code",
   "execution_count": 29,
   "metadata": {},
   "outputs": [
    {
     "data": {
      "text/plain": [
       "100"
      ]
     },
     "execution_count": 29,
     "metadata": {},
     "output_type": "execute_result"
    }
   ],
   "source": [
    "var1"
   ]
  },
  {
   "cell_type": "markdown",
   "metadata": {},
   "source": [
    "Lembre-se de que variáveis ​​são como caixas que contêm valores. As figuras anteriores deste capítulo mostram que as listas em caixas não são exatamente precisas, porque as variáveis ​​de lista na verdade não contêm listas — elas contêm referências a listas. (Essas referências terão números de ID que o Python usa internamente, mas você pode ignorá-los.)"
   ]
  },
  {
   "attachments": {
    "image.png": {
     "image/png": "[encoded data removed]"
    }
   },
   "cell_type": "markdown",
   "metadata": {},
   "source": [
    "![image.png](attachment:image.png)"
   ]
  },
  {
   "cell_type": "code",
   "execution_count": 30,
   "metadata": {},
   "outputs": [
    {
     "data": {
      "text/plain": [
       "[0, 'Hello!', 2, 3, 4, 5]"
      ]
     },
     "execution_count": 30,
     "metadata": {},
     "output_type": "execute_result"
    }
   ],
   "source": [
    "spam = [0, 1, 2, 3, 4, 5]\n",
    "cheese = spam # The reference is being copied, not the list.\n",
    "cheese[1] = 'Hello!' # This changes the list value.\n",
    "spam\n"
   ]
  },
  {
   "cell_type": "code",
   "execution_count": 31,
   "metadata": {},
   "outputs": [
    {
     "data": {
      "text/plain": [
       "[0, 'Hello!', 2, 3, 4, 5]"
      ]
     },
     "execution_count": 31,
     "metadata": {},
     "output_type": "execute_result"
    }
   ],
   "source": [
    "cheese # The cheese variable refers to the same list."
   ]
  },
  {
   "cell_type": "markdown",
   "metadata": {},
   "source": [
    "![Alt text](../Figuras/image-12.png)"
   ]
  },
  {
   "cell_type": "code",
   "execution_count": 32,
   "metadata": {},
   "outputs": [
    {
     "data": {
      "text/plain": [
       "1992528087152"
      ]
     },
     "execution_count": 32,
     "metadata": {},
     "output_type": "execute_result"
    }
   ],
   "source": [
    "id('Howdy')"
   ]
  },
  {
   "cell_type": "code",
   "execution_count": 37,
   "metadata": {},
   "outputs": [
    {
     "data": {
      "text/plain": [
       "1992528090480"
      ]
     },
     "execution_count": 37,
     "metadata": {},
     "output_type": "execute_result"
    }
   ],
   "source": [
    "var1 = 'Hello'\n",
    "id(var1)"
   ]
  },
  {
   "cell_type": "code",
   "execution_count": 38,
   "metadata": {},
   "outputs": [
    {
     "data": {
      "text/plain": [
       "1992527874992"
      ]
     },
     "execution_count": 38,
     "metadata": {},
     "output_type": "execute_result"
    }
   ],
   "source": [
    "var1 += ' world!' # A new string is made from 'Hello' and ' world!'.\n",
    "id(var1) # now refers to a completely different string."
   ]
  },
  {
   "cell_type": "code",
   "execution_count": 39,
   "metadata": {},
   "outputs": [
    {
     "data": {
      "text/plain": [
       "1992528185408"
      ]
     },
     "execution_count": 39,
     "metadata": {},
     "output_type": "execute_result"
    }
   ],
   "source": [
    "list1 = ['cat', 'dog'] # This creates a new list.\n",
    "id(list1)"
   ]
  },
  {
   "cell_type": "code",
   "execution_count": 40,
   "metadata": {},
   "outputs": [
    {
     "data": {
      "text/plain": [
       "1992528185408"
      ]
     },
     "execution_count": 40,
     "metadata": {},
     "output_type": "execute_result"
    }
   ],
   "source": [
    "list1.append('moose') # append() modifies the list \"in place\".\n",
    "id(list1) #  still refers to the same list as before."
   ]
  },
  {
   "cell_type": "code",
   "execution_count": 41,
   "metadata": {},
   "outputs": [
    {
     "data": {
      "text/plain": [
       "1992513160320"
      ]
     },
     "execution_count": 41,
     "metadata": {},
     "output_type": "execute_result"
    }
   ],
   "source": [
    "list1 = ['bat', 'rat', 'cow'] # This creates a new list, which has a new identity.\n",
    "id(list1)"
   ]
  },
  {
   "cell_type": "markdown",
   "metadata": {},
   "source": [
    "# Passando Referências\n",
    "As referências são particularmente importantes para entender como os argumentos são passados ​​para as funções. Quando uma função é chamada, os valores dos argumentos são copiados para as variáveis ​​dos parâmetros. Para listas (e dicionários), isso significa que uma cópia da referência é usada para o parâmetro."
   ]
  },
  {
   "cell_type": "code",
   "execution_count": 42,
   "metadata": {},
   "outputs": [
    {
     "data": {
      "text/plain": [
       "1992513339904"
      ]
     },
     "execution_count": 42,
     "metadata": {},
     "output_type": "execute_result"
    }
   ],
   "source": [
    "def passRef(someParameter):\n",
    "    someParameter.append('Hello')\n",
    "\n",
    "spam = [1, 2, 3]\n",
    "\n",
    "id(spam)\n"
   ]
  },
  {
   "cell_type": "code",
   "execution_count": 43,
   "metadata": {},
   "outputs": [],
   "source": [
    "passRef(spam)"
   ]
  },
  {
   "cell_type": "code",
   "execution_count": 44,
   "metadata": {},
   "outputs": [
    {
     "name": "stdout",
     "output_type": "stream",
     "text": [
      "[1, 2, 3, 'Hello']\n"
     ]
    }
   ],
   "source": [
    "print(spam)"
   ]
  },
  {
   "cell_type": "code",
   "execution_count": 45,
   "metadata": {},
   "outputs": [
    {
     "data": {
      "text/plain": [
       "1992513339904"
      ]
     },
     "execution_count": 45,
     "metadata": {},
     "output_type": "execute_result"
    }
   ],
   "source": [
    "id(spam)"
   ]
  },
  {
   "cell_type": "markdown",
   "metadata": {},
   "source": [
    "# As funções copy() e deepcopy() do módulo copy\n",
    "\n",
    "Embora passar referências seja muitas vezes a maneira mais prática de lidar com listas e dicionários, se a função modificar a lista ou dicionário que é passado, você pode não querer essas alterações na lista original ou no valor do dicionário. Para isso, Python fornece um módulo chamado copy que fornece as funções copy() e deepcopy() . O primeiro deles, copy.copy() , pode ser usado para fazer uma cópia duplicada de um valor mutável como uma lista ou dicionário, não apenas uma cópia de uma referência. "
   ]
  },
  {
   "cell_type": "code",
   "execution_count": 46,
   "metadata": {},
   "outputs": [
    {
     "data": {
      "text/plain": [
       "1992513285760"
      ]
     },
     "execution_count": 46,
     "metadata": {},
     "output_type": "execute_result"
    }
   ],
   "source": [
    "import copy\n",
    "spam = ['A', 'B', 'C', 'D']\n",
    "id(spam)\n"
   ]
  },
  {
   "cell_type": "code",
   "execution_count": 52,
   "metadata": {},
   "outputs": [
    {
     "name": "stdout",
     "output_type": "stream",
     "text": [
      "1992527873024\n"
     ]
    }
   ],
   "source": [
    "cheese = copy.copy(spam)\n",
    "id(cheese) # cheese is a different list with different identity.\n",
    "\n",
    "ind1 = id(cheese)\n",
    "\n",
    "cheese[1] = 42\n",
    "\n",
    "print(ind1)\n"
   ]
  },
  {
   "cell_type": "code",
   "execution_count": 48,
   "metadata": {},
   "outputs": [
    {
     "data": {
      "text/plain": [
       "['A', 42, 'C', 'D']"
      ]
     },
     "execution_count": 48,
     "metadata": {},
     "output_type": "execute_result"
    }
   ],
   "source": [
    "cheese"
   ]
  },
  {
   "cell_type": "code",
   "execution_count": 49,
   "metadata": {},
   "outputs": [
    {
     "data": {
      "text/plain": [
       "['A', 'B', 'C', 'D']"
      ]
     },
     "execution_count": 49,
     "metadata": {},
     "output_type": "execute_result"
    }
   ],
   "source": [
    "spam\n"
   ]
  },
  {
   "cell_type": "code",
   "execution_count": 54,
   "metadata": {},
   "outputs": [
    {
     "name": "stdout",
     "output_type": "stream",
     "text": [
      "1992513285760\n"
     ]
    }
   ],
   "source": [
    "ind2 = id(spam)\n",
    "print(ind2)"
   ]
  },
  {
   "cell_type": "markdown",
   "metadata": {},
   "source": [
    "![Alt text](../Figuras/image-13.png)"
   ]
  },
  {
   "cell_type": "markdown",
   "metadata": {},
   "source": [
    "Se a lista que você precisa copiar contiver listas, use a função copy.deepcopy() em vez de copy.copy() . A função deepcopy() também copiará essas listas internas."
   ]
  },
  {
   "cell_type": "code",
   "execution_count": 55,
   "metadata": {},
   "outputs": [
    {
     "name": "stdout",
     "output_type": "stream",
     "text": [
      "dict1:  {'linguagem': 'Python', 'criador': 'Guido van Rossum'} id dict1:  1992527757376\n",
      "dict2:  {'linguagem': 'Javascript', 'criador': 'Guido van Rossum'} id dict2:  1992513288768\n"
     ]
    }
   ],
   "source": [
    "dict1 = {\n",
    "  'linguagem': 'Python',\n",
    "  'criador': 'Guido van Rossum'\n",
    "}\n",
    "\n",
    "dict2 = dict1.copy()\n",
    "dict2['linguagem'] = 'Javascript'\n",
    "\n",
    "print('dict1: ', dict1, 'id dict1: ', id(dict1))\n",
    "print('dict2: ', dict2, 'id dict2: ', id(dict2))"
   ]
  },
  {
   "cell_type": "code",
   "execution_count": 56,
   "metadata": {},
   "outputs": [
    {
     "name": "stdout",
     "output_type": "stream",
     "text": [
      "dict1:  {'linguagem': 'Python', 'criador': 'Guido van Rossum', 'IDE': ['Sublime text', 'PyCharm']}\n",
      "id dict1:  1992528224896\n",
      "dict2:  {'linguagem': 'Javascript', 'criador': 'Guido van Rossum', 'IDE': ['Sublime text', 'PyCharm']}\n",
      "id dict2:  1992528224960\n",
      "id IDE:  1992528122304\n",
      "id IDE:  1992528122304\n"
     ]
    }
   ],
   "source": [
    "dict1 = {\n",
    "  'linguagem': 'Python',\n",
    "  'criador': 'Guido van Rossum',\n",
    "  'IDE': ['VScode', 'PyCharm']\n",
    "}\n",
    "\n",
    "dict2 = dict1.copy()\n",
    "\n",
    "dict2['linguagem'] = 'Javascript'\n",
    "dict2['IDE'][0] = 'Sublime text'\n",
    "\n",
    "print('dict1: ', dict1)\n",
    "print('id dict1: ', id(dict1))\n",
    "print('dict2: ', dict2)\n",
    "print('id dict2: ',id(dict2))\n",
    "print('id IDE: ',id(dict1['IDE']))\n",
    "print('id IDE: ',id(dict2['IDE']))\n"
   ]
  },
  {
   "cell_type": "markdown",
   "metadata": {},
   "source": [
    "o método copy() copia apenas os valores imutáveis e “linka” as referências dos valores mutáveis."
   ]
  },
  {
   "cell_type": "code",
   "execution_count": 57,
   "metadata": {},
   "outputs": [
    {
     "name": "stdout",
     "output_type": "stream",
     "text": [
      "dict1:  {'linguagem': 'Python', 'criador': 'Guido van Rossum', 'IDE': ['VScode', 'PyCharm']}\n",
      "id dict1:  1992527765824\n",
      "dict2:  {'linguagem': 'Javascript', 'criador': 'Guido van Rossum', 'IDE': ['Sublime text', 'PyCharm']}\n",
      "id dict2:  1992528216896\n",
      "id IDE:  1992528217088\n",
      "id IDE:  1992528123648\n"
     ]
    }
   ],
   "source": [
    "import copy\n",
    "\n",
    "dict1 = {\n",
    "  'linguagem': 'Python',\n",
    "  'criador': 'Guido van Rossum',\n",
    "  'IDE': ['VScode', 'PyCharm']\n",
    "}\n",
    "\n",
    "dict2 = copy.deepcopy(dict1)\n",
    "\n",
    "dict2['linguagem'] = 'Javascript'\n",
    "dict2['IDE'][0] = 'Sublime text'\n",
    "\n",
    "print('dict1: ', dict1)\n",
    "print('id dict1: ', id(dict1))\n",
    "print('dict2: ', dict2)\n",
    "print('id dict2: ',id(dict2))\n",
    "print('id IDE: ',id(dict1['IDE']))\n",
    "print('id IDE: ',id(dict2['IDE']))"
   ]
  },
  {
   "cell_type": "code",
   "execution_count": null,
   "metadata": {},
   "outputs": [],
   "source": [
    "from copy import deepcopy\n",
    "\n",
    "# livros A, [B_vol1, B_vol2], C\n",
    "livros_yan = [['A'], ['B_vol1', 'B_vol2'], ['D']]\n",
    "livros_gil = livros_yan.copy()\n",
    "livros_pedro = deepcopy(livros_yan)\n"
   ]
  },
  {
   "cell_type": "code",
   "execution_count": null,
   "metadata": {},
   "outputs": [],
   "source": [
    "print(\"L_01\" + \"=\" * 20)\n",
    "# ID para livros_yan (ex.: 2003186526912)\n",
    "print(\"ID lista LIVROS YAN:\", id(livros_yan))\n",
    "# .copy() gera um nova ID para livros_gil (ex.: 2003186527552)\n",
    "print(\"ID lista LIVROS GIL:\", id(livros_gil))\n",
    "# deepcopy gera um nova ID para livros_pedro (ex.: 2003186527296)\n",
    "print(\"ID lista LIVROS PEDRO:\", id(livros_pedro))\n"
   ]
  },
  {
   "cell_type": "code",
   "execution_count": null,
   "metadata": {},
   "outputs": [],
   "source": [
    "print(\"\\nL_02\" + \"=\" * 20)\n",
    "# ID LIVRO [B_vol1, B_vol2] igual YAN (ex.: 2003186350400) e GIL (ex.: 2003186350400), \n",
    "# POREM difere para PEDRO (ex.: 2003186526976)\n",
    "print(\"ID LIVRO [B_vol1, B_vol2] YAN:\", id(livros_yan[1]))\n",
    "print(\"ID LIVRO [B_vol1, B_vol2] GIL:\", id(livros_gil[1]))\n",
    "print(\"ID LIVRO [B_vol1, B_vol2] PEDRO:\", id(livros_pedro[1]))\n",
    "# ID B_vol1 igual para YAN, GIL e também PEDRO (ex.: 2003186037296 para os tres)\n",
    "print(\"ID B_vol1 YAN:\", id(livros_yan[1][0]))\n",
    "print(\"ID B_vol1 GIL:\", id(livros_gil[1][0]))\n",
    "print(\"ID B_vol1 PEDRO:\", id(livros_pedro[1][0]))"
   ]
  },
  {
   "cell_type": "code",
   "execution_count": null,
   "metadata": {},
   "outputs": [],
   "source": [
    "print(\"\\nL_03\" + \"=\" * 20)\n",
    "# remove apenas o B_vol1\n",
    "livros_yan[1].remove('B_vol1')\n",
    "# B_vol1 será removido de Yan e Gil, porem permanece em Pedro\n",
    "# deepcopy fez seu papel de nao remover B_vol1 para Pedro\n",
    "print(\"LIVROS YAN SEM B_vol1:\", livros_yan)\n",
    "print(\"LIVROS GIL SEM B_vol1:\", livros_gil)\n",
    "print(\"LIVROS PEDRO:\", livros_pedro)"
   ]
  },
  {
   "cell_type": "markdown",
   "metadata": {},
   "source": [
    "Se o deepcopy cria novos objetos (ID) na nova lista, porque 'B_vol1' possui a mesma ID em listas diferentes?\" o ID do 'B_vol1' não mude porque 'str' já é um valor imutável, como é o mesmo objeto('B_vol1'), ele aponta para a mesma referencia na memoria em todas as listas...\n",
    "\n",
    "o mesmo caso ocorre a baixo, o id das variaveis t1 e t2 são os mesmos, mas mudar uma delas nao afeta a outra porque elas sao imutaveis. Se eu deletar t1 ou modificar o valor, o id de t1 vai mudar, mas o objeto 'teste' vai continuar na memoria.\n",
    "\n"
   ]
  },
  {
   "cell_type": "code",
   "execution_count": null,
   "metadata": {},
   "outputs": [],
   "source": [
    "t1='teste'\n",
    "t2='teste'\n",
    "print(id(t1),id(t2),sep='\\n')"
   ]
  },
  {
   "cell_type": "code",
   "execution_count": null,
   "metadata": {},
   "outputs": [],
   "source": [
    "t1='testeT1'\n",
    "t2='teste'\n",
    "print(id(t1),id(t2),sep='\\n')"
   ]
  }
 ],
 "metadata": {
  "kernelspec": {
   "display_name": "Python 3",
   "language": "python",
   "name": "python3"
  },
  "language_info": {
   "codemirror_mode": {
    "name": "ipython",
    "version": 3
   },
   "file_extension": ".py",
   "mimetype": "text/x-python",
   "name": "python",
   "nbconvert_exporter": "python",
   "pygments_lexer": "ipython3",
   "version": "3.11.9"
  },
  "orig_nbformat": 4
 },
 "nbformat": 4,
 "nbformat_minor": 2
}
